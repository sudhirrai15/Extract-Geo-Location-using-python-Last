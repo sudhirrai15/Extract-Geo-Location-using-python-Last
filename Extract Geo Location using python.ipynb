{
 "cells": [
  {
   "cell_type": "code",
   "execution_count": 2,
   "metadata": {},
   "outputs": [],
   "source": [
    "from geopy.geocoders import Nominatim\n",
    "import time\n",
    "from pprint import pprint"
   ]
  },
  {
   "cell_type": "code",
   "execution_count": 3,
   "metadata": {},
   "outputs": [],
   "source": [
    "# instantiate a new Nominatim client\n",
    "app = Nominatim(user_agent=\"Sudhir\")"
   ]
  },
  {
   "cell_type": "code",
   "execution_count": 5,
   "metadata": {},
   "outputs": [
    {
     "name": "stdout",
     "output_type": "stream",
     "text": [
      "{'boundingbox': ['32.613216', '33.0239366', '-97.000482', '-96.4636317'],\n",
      " 'class': 'boundary',\n",
      " 'display_name': 'Dallas, Dallas County, Texas, United States of America',\n",
      " 'icon': 'https://nominatim.openstreetmap.org/images/mapicons/poi_boundary_administrative.p.20.png',\n",
      " 'importance': 1.2841451879795,\n",
      " 'lat': '32.7762719',\n",
      " 'licence': 'Data © OpenStreetMap contributors, ODbL 1.0. '\n",
      "            'https://osm.org/copyright',\n",
      " 'lon': '-96.7968559',\n",
      " 'osm_id': 6571629,\n",
      " 'osm_type': 'relation',\n",
      " 'place_id': 236274805,\n",
      " 'type': 'administrative'}\n"
     ]
    }
   ],
   "source": [
    "# get location raw data\n",
    "location = app.geocode(\"Dallas, Texas, United States of America\").raw\n",
    "# print raw data\n",
    "pprint(location)"
   ]
  },
  {
   "cell_type": "code",
   "execution_count": 6,
   "metadata": {},
   "outputs": [
    {
     "name": "stdout",
     "output_type": "stream",
     "text": [
      "{'boundingbox': ['28.4812633', '28.6456842', '77.0503708', '77.2551392'],\n",
      " 'class': 'boundary',\n",
      " 'display_name': 'New Delhi, Delhi, India',\n",
      " 'icon': 'https://nominatim.openstreetmap.org/images/mapicons/poi_boundary_administrative.p.20.png',\n",
      " 'importance': 0.9948043445414907,\n",
      " 'lat': '28.6138954',\n",
      " 'licence': 'Data © OpenStreetMap contributors, ODbL 1.0. '\n",
      "            'https://osm.org/copyright',\n",
      " 'lon': '77.2090057',\n",
      " 'osm_id': 2763541,\n",
      " 'osm_type': 'relation',\n",
      " 'place_id': 235869145,\n",
      " 'type': 'administrative'}\n"
     ]
    }
   ],
   "source": [
    "# get location raw data\n",
    "location = app.geocode(\"New Delhi, India\").raw\n",
    "# print raw data\n",
    "pprint(location)"
   ]
  },
  {
   "cell_type": "code",
   "execution_count": 7,
   "metadata": {},
   "outputs": [],
   "source": [
    "def get_location_by_address(address):\n",
    "    \"\"\"This function returns a location as raw from an address\n",
    "    will repeat until success\"\"\"\n",
    "    time.sleep(1)\n",
    "    try:\n",
    "        return app.geocode(address).raw\n",
    "    except:\n",
    "        return get_location_by_address(address)"
   ]
  },
  {
   "cell_type": "code",
   "execution_count": 8,
   "metadata": {},
   "outputs": [
    {
     "name": "stdout",
     "output_type": "stream",
     "text": [
      "-6.7460493, 39.2750804\n",
      "{'boundingbox': ['-6.7467061', '-6.7454602', '39.2741806', '39.2760514'],\n",
      " 'class': 'highway',\n",
      " 'display_name': 'Makai Road, Masaki, Msasani, Dar es-Salaam, Dar es Salaam, '\n",
      "                 'Coastal Zone, 2585, Tanzania',\n",
      " 'importance': 0.82,\n",
      " 'lat': '-6.7460493',\n",
      " 'licence': 'Data © OpenStreetMap contributors, ODbL 1.0. '\n",
      "            'https://osm.org/copyright',\n",
      " 'lon': '39.2750804',\n",
      " 'osm_id': 23347726,\n",
      " 'osm_type': 'way',\n",
      " 'place_id': 89652779,\n",
      " 'type': 'residential'}\n"
     ]
    }
   ],
   "source": [
    "address = \"Makai Road, Masaki, Dar es Salaam, Tanzania\"\n",
    "location = get_location_by_address(address)\n",
    "latitude = location[\"lat\"]\n",
    "longitude = location[\"lon\"]\n",
    "print(f\"{latitude}, {longitude}\")\n",
    "# print all returned data\n",
    "pprint(location)"
   ]
  },
  {
   "cell_type": "code",
   "execution_count": 9,
   "metadata": {},
   "outputs": [],
   "source": [
    "def get_address_by_location(latitude, longitude, language=\"en\"):\n",
    "    \"\"\"This function returns an address as raw from a location\n",
    "    will repeat until success\"\"\"\n",
    "    # build coordinates string to pass to reverse() function\n",
    "    coordinates = f\"{latitude}, {longitude}\"\n",
    "    # sleep for a second to respect Usage Policy\n",
    "    time.sleep(1)\n",
    "    try:\n",
    "        return app.reverse(coordinates, language=language).raw\n",
    "    except:\n",
    "        return get_address_by_location(latitude, longitude)"
   ]
  },
  {
   "cell_type": "code",
   "execution_count": 10,
   "metadata": {},
   "outputs": [
    {
     "name": "stdout",
     "output_type": "stream",
     "text": [
      "{'address': {'country': 'Algeria',\n",
      "             'country_code': 'dz',\n",
      "             'county': 'Dar El Beida District',\n",
      "             'postcode': '16110',\n",
      "             'state': 'Algiers',\n",
      "             'town': 'Bab Ezzouar'},\n",
      " 'boundingbox': ['36.7231765', '36.7242661', '3.1866439', '3.1903998'],\n",
      " 'display_name': 'Bab Ezzouar, Dar El Beida District, Algiers, 16110, Algeria',\n",
      " 'lat': '36.72380363740118',\n",
      " 'licence': 'Data © OpenStreetMap contributors, ODbL 1.0. '\n",
      "            'https://osm.org/copyright',\n",
      " 'lon': '3.188236679492425',\n",
      " 'osm_id': 42812185,\n",
      " 'osm_type': 'way',\n",
      " 'place_id': 98075368}\n"
     ]
    }
   ],
   "source": [
    "# define your coordinates\n",
    "latitude = 36.723\n",
    "longitude = 3.188\n",
    "# get the address info\n",
    "address = get_address_by_location(latitude, longitude)\n",
    "# print all returned data\n",
    "pprint(address)"
   ]
  },
  {
   "cell_type": "code",
   "execution_count": null,
   "metadata": {},
   "outputs": [],
   "source": []
  }
 ],
 "metadata": {
  "kernelspec": {
   "display_name": "Python 3",
   "language": "python",
   "name": "python3"
  },
  "language_info": {
   "codemirror_mode": {
    "name": "ipython",
    "version": 3
   },
   "file_extension": ".py",
   "mimetype": "text/x-python",
   "name": "python",
   "nbconvert_exporter": "python",
   "pygments_lexer": "ipython3",
   "version": "3.7.3"
  }
 },
 "nbformat": 4,
 "nbformat_minor": 2
}
